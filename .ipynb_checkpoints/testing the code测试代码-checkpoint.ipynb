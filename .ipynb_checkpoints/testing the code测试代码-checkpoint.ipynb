{
 "cells": [
  {
   "cell_type": "code",
   "execution_count": 3,
   "id": "e139af4b",
   "metadata": {},
   "outputs": [],
   "source": [
    "def get_formatted_name(first, last):\n",
    "    \"\"\"generate formatted name\"\"\"\n",
    "    full_name = f\"{first} {last}\"\n",
    "    return full_name.title()"
   ]
  },
  {
   "cell_type": "code",
   "execution_count": 4,
   "id": "8103f8b7",
   "metadata": {},
   "outputs": [
    {
     "name": "stdout",
     "output_type": "stream",
     "text": [
      "first:liu\n",
      "last:baihua\n",
      "Liu Baihua\n",
      "first:he\n",
      "last:zhongyu\n",
      "He Zhongyu\n",
      "first:q\n"
     ]
    }
   ],
   "source": [
    "while True:\n",
    "    first = input(\"first:\")\n",
    "    if first == 'q':\n",
    "        break\n",
    "    last = input(\"last:\")\n",
    "    if last == 'q':\n",
    "        break\n",
    "    \n",
    "    formatted_name = get_formatted_name(first, last)\n",
    "    print(formatted_name)"
   ]
  },
  {
   "cell_type": "markdown",
   "id": "83e61164",
   "metadata": {},
   "source": [
    "unit test"
   ]
  },
  {
   "cell_type": "code",
   "execution_count": 11,
   "id": "00405ac3",
   "metadata": {},
   "outputs": [
    {
     "name": "stderr",
     "output_type": "stream",
     "text": [
      "\n",
      "----------------------------------------------------------------------\n",
      "Ran 0 tests in 0.000s\n",
      "\n",
      "OK\n"
     ]
    }
   ],
   "source": [
    "import unittest\n",
    "class NamesTestCase(unittest.TestCase):\n",
    "    def test_first_last_name(self):\n",
    "        formatted_name = get_formatted_name('liu', 'baihua')\n",
    "        self.assertEqual(formatted_name, 'Liu Baihua')\n",
    "  \n",
    "# 因为不是主程序所以不能这么写\n",
    "# if __name__ == '__main__':\n",
    "#     unittest.main()\n",
    "\n",
    "suite = unittest.TestSuite()\n",
    "runner = unittest.TextTestRunner(verbosity=2)\n",
    "if __name__ == '__main__':\n",
    "    runner.run(suite)\n"
   ]
  },
  {
   "cell_type": "code",
   "execution_count": null,
   "id": "908bd6ec",
   "metadata": {},
   "outputs": [],
   "source": []
  },
  {
   "cell_type": "code",
   "execution_count": null,
   "id": "94de387b",
   "metadata": {},
   "outputs": [],
   "source": []
  }
 ],
 "metadata": {
  "kernelspec": {
   "display_name": "Python 3 (ipykernel)",
   "language": "python",
   "name": "python3"
  },
  "language_info": {
   "codemirror_mode": {
    "name": "ipython",
    "version": 3
   },
   "file_extension": ".py",
   "mimetype": "text/x-python",
   "name": "python",
   "nbconvert_exporter": "python",
   "pygments_lexer": "ipython3",
   "version": "3.7.3"
  }
 },
 "nbformat": 4,
 "nbformat_minor": 5
}
