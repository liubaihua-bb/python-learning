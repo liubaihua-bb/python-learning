{
 "cells": [
  {
   "cell_type": "code",
   "execution_count": 1,
   "id": "8c2c6ffe",
   "metadata": {},
   "outputs": [
    {
     "name": "stdout",
     "output_type": "stream",
     "text": [
      "1\n",
      "2\n",
      "3\n",
      "4\n"
     ]
    }
   ],
   "source": [
    "# count\n",
    "current_number = 1\n",
    "while current_number < 5:\n",
    "    print(current_number)\n",
    "    current_number+=1"
   ]
  },
  {
   "cell_type": "code",
   "execution_count": 2,
   "id": "0d797825",
   "metadata": {},
   "outputs": [
    {
     "name": "stdout",
     "output_type": "stream",
     "text": [
      "cindy\n",
      "brandon\n",
      "alice\n"
     ]
    }
   ],
   "source": [
    "# for is not suitable for revising, while is.\n",
    "unfamiliar_friends = ['alice','brandon','cindy']\n",
    "familiar_friends = []\n",
    "\n",
    "while unfamiliar_friends:\n",
    "    current_friend = unfamiliar_friends.pop()\n",
    "    familiar_friends.append(current_friend)\n",
    "\n",
    "for familiar_friend in familiar_friends:\n",
    "    print(familiar_friend)"
   ]
  },
  {
   "cell_type": "markdown",
   "id": "471bcaa5",
   "metadata": {},
   "source": [
    "delete all specified elements(not like remove() which just deletes the first one)"
   ]
  },
  {
   "cell_type": "code",
   "execution_count": 4,
   "id": "2cf302f5",
   "metadata": {},
   "outputs": [
    {
     "name": "stdout",
     "output_type": "stream",
     "text": [
      "['lbh', 'lbh', 'zz', 'hzy', 'hjh', 'hm']\n",
      "['zz', 'hzy', 'hjh', 'hm']\n"
     ]
    }
   ],
   "source": [
    "friends = ['lbh', 'lbh', 'zz', 'hzy', 'hjh', 'hm']\n",
    "print(friends)\n",
    "while 'lbh' in friends:\n",
    "    friends.remove('lbh')\n",
    "print(friends)"
   ]
  },
  {
   "cell_type": "code",
   "execution_count": 1,
   "id": "205b1a55",
   "metadata": {},
   "outputs": [
    {
     "name": "stdout",
     "output_type": "stream",
     "text": [
      "\n",
      "name:lbh\n",
      "\n",
      "mountain:a\n",
      "\n",
      "go on?(yes/no)yes\n",
      "\n",
      "name:hzy\n",
      "\n",
      "mountain:b\n",
      "\n",
      "go on?(yes/no)no\n"
     ]
    }
   ],
   "source": [
    "# example : polling for mountains\n",
    "result = {}\n",
    "polling_tag = True\n",
    "\n",
    "while polling_tag:\n",
    "    name = input(\"\\nname:\")\n",
    "    mountain = input(\"\\nmountain:\")\n",
    "    result[name] = mountain\n",
    "    \n",
    "    repeat = input(\"\\ngo on?(yes/no)\")\n",
    "    if repeat == 'no':\n",
    "        polling_tag = False\n"
   ]
  },
  {
   "cell_type": "code",
   "execution_count": 4,
   "id": "8a34f8c0",
   "metadata": {},
   "outputs": [
    {
     "name": "stdout",
     "output_type": "stream",
     "text": [
      "lbh:a\n",
      "hzy:b\n"
     ]
    }
   ],
   "source": [
    "for name, value in result.items():\n",
    "    print(f\"{name}:{value}\")"
   ]
  },
  {
   "cell_type": "code",
   "execution_count": null,
   "id": "0c2d712f",
   "metadata": {},
   "outputs": [],
   "source": []
  }
 ],
 "metadata": {
  "kernelspec": {
   "display_name": "Python 3 (ipykernel)",
   "language": "python",
   "name": "python3"
  },
  "language_info": {
   "codemirror_mode": {
    "name": "ipython",
    "version": 3
   },
   "file_extension": ".py",
   "mimetype": "text/x-python",
   "name": "python",
   "nbconvert_exporter": "python",
   "pygments_lexer": "ipython3",
   "version": "3.7.3"
  }
 },
 "nbformat": 4,
 "nbformat_minor": 5
}
