{
 "cells": [
  {
   "cell_type": "code",
   "execution_count": 9,
   "id": "fa266aca",
   "metadata": {},
   "outputs": [
    {
     "name": "stdout",
     "output_type": "stream",
     "text": [
      "['1', '3', '9']\n"
     ]
    }
   ],
   "source": [
    "bicycles = ['1','3','9']\n",
    "print(bicycles)"
   ]
  },
  {
   "cell_type": "markdown",
   "id": "27cd70cb",
   "metadata": {},
   "source": [
    "访问列表元素,第一个列表元素的索引为0"
   ]
  },
  {
   "cell_type": "code",
   "execution_count": 10,
   "id": "f86075e1",
   "metadata": {},
   "outputs": [
    {
     "name": "stdout",
     "output_type": "stream",
     "text": [
      "1\n"
     ]
    }
   ],
   "source": [
    "print(bicycles[0])"
   ]
  },
  {
   "cell_type": "markdown",
   "id": "da43941e",
   "metadata": {},
   "source": [
    "to return the last element in List: use index -1"
   ]
  },
  {
   "cell_type": "code",
   "execution_count": 11,
   "id": "572727b2",
   "metadata": {},
   "outputs": [
    {
     "name": "stdout",
     "output_type": "stream",
     "text": [
      "9\n"
     ]
    }
   ],
   "source": [
    "print(bicycles[-1])"
   ]
  },
  {
   "cell_type": "markdown",
   "id": "8442304a",
   "metadata": {},
   "source": [
    "ADD new element at the last of the List"
   ]
  },
  {
   "cell_type": "code",
   "execution_count": 12,
   "id": "eadd7364",
   "metadata": {},
   "outputs": [
    {
     "name": "stdout",
     "output_type": "stream",
     "text": [
      "['1', '3', '9', '11']\n"
     ]
    }
   ],
   "source": [
    "bicycles.append('11')\n",
    "print(bicycles)"
   ]
  },
  {
   "cell_type": "markdown",
   "id": "5c6bea4c",
   "metadata": {},
   "source": [
    "INSERT element in List"
   ]
  },
  {
   "cell_type": "code",
   "execution_count": 13,
   "id": "316c98d1",
   "metadata": {},
   "outputs": [
    {
     "name": "stdout",
     "output_type": "stream",
     "text": [
      "['5', '1', '3', '9', '11']\n"
     ]
    }
   ],
   "source": [
    "bicycles.insert(0,'5')\n",
    "print(bicycles)\n",
    "# insert element in the '0' position"
   ]
  },
  {
   "cell_type": "markdown",
   "id": "c2448f74",
   "metadata": {},
   "source": [
    "DELETE element in List"
   ]
  },
  {
   "cell_type": "code",
   "execution_count": 14,
   "id": "4806ca43",
   "metadata": {},
   "outputs": [],
   "source": [
    "del bicycles[0]"
   ]
  },
  {
   "cell_type": "code",
   "execution_count": 15,
   "id": "ece752a7",
   "metadata": {},
   "outputs": [
    {
     "name": "stdout",
     "output_type": "stream",
     "text": [
      "['1', '3', '9', '11']\n"
     ]
    }
   ],
   "source": [
    "print(bicycles)"
   ]
  },
  {
   "cell_type": "markdown",
   "id": "19f5541e",
   "metadata": {},
   "source": [
    "function POP can delete and get the last element of the List"
   ]
  },
  {
   "cell_type": "code",
   "execution_count": 16,
   "id": "f833af74",
   "metadata": {},
   "outputs": [
    {
     "name": "stdout",
     "output_type": "stream",
     "text": [
      "11\n",
      "['1', '3', '9']\n"
     ]
    }
   ],
   "source": [
    "a = bicycles.pop()\n",
    "print(a)\n",
    "print(bicycles)"
   ]
  },
  {
   "cell_type": "markdown",
   "id": "d6574a9b",
   "metadata": {},
   "source": [
    "function POP can delete and get any element in List"
   ]
  },
  {
   "cell_type": "code",
   "execution_count": 18,
   "id": "f34b1eef",
   "metadata": {},
   "outputs": [
    {
     "name": "stdout",
     "output_type": "stream",
     "text": [
      "3\n",
      "['1', '9']\n"
     ]
    }
   ],
   "source": [
    "b = bicycles.pop(1)\n",
    "print(b)\n",
    "print(bicycles)"
   ]
  },
  {
   "cell_type": "markdown",
   "id": "38e5a968",
   "metadata": {},
   "source": [
    "function REMOVE can delete the first specified value "
   ]
  },
  {
   "cell_type": "code",
   "execution_count": 19,
   "id": "f9b93a72",
   "metadata": {},
   "outputs": [
    {
     "data": {
      "text/plain": [
       "['1']"
      ]
     },
     "execution_count": 19,
     "metadata": {},
     "output_type": "execute_result"
    }
   ],
   "source": [
    "bicycles.remove('9')\n",
    "bicycles"
   ]
  },
  {
   "cell_type": "markdown",
   "id": "3a9bd187",
   "metadata": {},
   "source": [
    "function SORT can sort the List permanently"
   ]
  },
  {
   "cell_type": "code",
   "execution_count": 21,
   "id": "73620481",
   "metadata": {},
   "outputs": [
    {
     "name": "stdout",
     "output_type": "stream",
     "text": [
      "['a', 'b', 's', 't']\n"
     ]
    }
   ],
   "source": [
    "cars = ['b','a','t','s']\n",
    "cars.sort()\n",
    "print(cars)"
   ]
  },
  {
   "cell_type": "code",
   "execution_count": 22,
   "id": "37bc6911",
   "metadata": {},
   "outputs": [
    {
     "name": "stdout",
     "output_type": "stream",
     "text": [
      "['t', 's', 'b', 'a']\n"
     ]
    }
   ],
   "source": [
    "cars = ['b','a','t','s']\n",
    "cars.sort(reverse = True)# reverse order\n",
    "print(cars)"
   ]
  },
  {
   "cell_type": "markdown",
   "id": "0d79bed6",
   "metadata": {},
   "source": [
    "function SORTED can sort the List temporarily"
   ]
  },
  {
   "cell_type": "code",
   "execution_count": 23,
   "id": "738003e2",
   "metadata": {},
   "outputs": [
    {
     "name": "stdout",
     "output_type": "stream",
     "text": [
      "['a', 'b', 's', 't']\n"
     ]
    }
   ],
   "source": [
    "cars = ['b','a','t','s']\n",
    "print(sorted(cars))"
   ]
  },
  {
   "cell_type": "code",
   "execution_count": 24,
   "id": "000d1030",
   "metadata": {},
   "outputs": [
    {
     "name": "stdout",
     "output_type": "stream",
     "text": [
      "['b', 'a', 't', 's']\n"
     ]
    }
   ],
   "source": [
    "print(cars)"
   ]
  },
  {
   "cell_type": "markdown",
   "id": "36c4d7be",
   "metadata": {},
   "source": [
    "function REVERSE can reverse the order of the List"
   ]
  },
  {
   "cell_type": "code",
   "execution_count": 26,
   "id": "66a98e89",
   "metadata": {},
   "outputs": [
    {
     "name": "stdout",
     "output_type": "stream",
     "text": [
      "['s', 't', 'a', 'b']\n"
     ]
    }
   ],
   "source": [
    "cars = ['b','a','t','s']\n",
    "cars.reverse()\n",
    "print(cars)"
   ]
  },
  {
   "cell_type": "markdown",
   "id": "f1caab9d",
   "metadata": {},
   "source": [
    "the length of the List"
   ]
  },
  {
   "cell_type": "code",
   "execution_count": 28,
   "id": "ab74fce9",
   "metadata": {},
   "outputs": [
    {
     "name": "stdout",
     "output_type": "stream",
     "text": [
      "4\n"
     ]
    }
   ],
   "source": [
    "cars = ['b','a','t','s']\n",
    "print(len(cars))"
   ]
  },
  {
   "cell_type": "markdown",
   "id": "34d5432d",
   "metadata": {},
   "source": [
    "TRAVERSE the List"
   ]
  },
  {
   "cell_type": "code",
   "execution_count": 29,
   "id": "ca22f6cb",
   "metadata": {},
   "outputs": [
    {
     "name": "stdout",
     "output_type": "stream",
     "text": [
      "lbh\n",
      "zz\n",
      "hzy\n",
      "hjh\n",
      "hm\n"
     ]
    }
   ],
   "source": [
    "friends = ['lbh', 'zz', 'hzy', 'hjh', 'hm']\n",
    "for friend in friends:\n",
    "    print(friend)"
   ]
  },
  {
   "cell_type": "markdown",
   "id": "c11b96e7",
   "metadata": {},
   "source": [
    "function RANGE can generate a series of numbers"
   ]
  },
  {
   "cell_type": "code",
   "execution_count": 30,
   "id": "e50f3a79",
   "metadata": {},
   "outputs": [
    {
     "name": "stdout",
     "output_type": "stream",
     "text": [
      "1\n",
      "2\n",
      "3\n",
      "4\n"
     ]
    }
   ],
   "source": [
    "for value in range(1, 5):\n",
    "    print(value)\n",
    "# only print (1,range-1)"
   ]
  },
  {
   "cell_type": "code",
   "execution_count": 31,
   "id": "357de9ae",
   "metadata": {},
   "outputs": [
    {
     "name": "stdout",
     "output_type": "stream",
     "text": [
      "[1, 2, 3, 4]\n"
     ]
    }
   ],
   "source": [
    "numbers = list(range(1,5))\n",
    "print(numbers)"
   ]
  },
  {
   "cell_type": "code",
   "execution_count": 32,
   "id": "592d1c3a",
   "metadata": {},
   "outputs": [
    {
     "name": "stdout",
     "output_type": "stream",
     "text": [
      "[2, 4, 6, 8, 10]\n"
     ]
    }
   ],
   "source": [
    "even_numbers = list(range(2,11,2))#stride = 2\n",
    "print(even_numbers)"
   ]
  },
  {
   "cell_type": "code",
   "execution_count": 33,
   "id": "95083d2c",
   "metadata": {},
   "outputs": [
    {
     "name": "stdout",
     "output_type": "stream",
     "text": [
      "[1, 4, 9, 16, 25, 36, 49, 64, 81, 100]\n"
     ]
    }
   ],
   "source": [
    "squares = []\n",
    "for value in range(1, 11):\n",
    "    square = value ** 2\n",
    "    squares.append(square)\n",
    "print(squares)\n",
    "\n",
    "# equals to:\n",
    "# squares = [value ** 2 for value in range(1,11)]"
   ]
  },
  {
   "cell_type": "markdown",
   "id": "46b99f6f",
   "metadata": {},
   "source": [
    "simple statistical calculation"
   ]
  },
  {
   "cell_type": "code",
   "execution_count": 38,
   "id": "b122925d",
   "metadata": {},
   "outputs": [
    {
     "name": "stdout",
     "output_type": "stream",
     "text": [
      "min:1\n",
      "6\n",
      "21\n"
     ]
    }
   ],
   "source": [
    "digits = [1, 2, 3, 4, 5, 6]\n",
    "print(f\"min:{min(digits)}\")\n",
    "print(max(digits))\n",
    "print(sum(digits))"
   ]
  },
  {
   "cell_type": "markdown",
   "id": "60c29040",
   "metadata": {},
   "source": [
    "SLICE 切片"
   ]
  },
  {
   "cell_type": "code",
   "execution_count": 42,
   "id": "fbb87bb6",
   "metadata": {},
   "outputs": [
    {
     "name": "stdout",
     "output_type": "stream",
     "text": [
      "['lbh', 'zz', 'hzy']\n",
      "['lbh', 'zz', 'hzy']\n",
      "['hzy', 'hjh', 'hm']\n"
     ]
    }
   ],
   "source": [
    "friends = ['lbh', 'zz', 'hzy', 'hjh', 'hm']\n",
    "print(friends[0:3])\n",
    "print(friends[:3])# default begin at 0, namely the top three elements\n",
    "print(friends[2:])# default end at end\n",
    "# [0:3] same as range(0,3)\n",
    "# namely 0, 1, 2"
   ]
  },
  {
   "cell_type": "code",
   "execution_count": 43,
   "id": "29b5b8f7",
   "metadata": {},
   "outputs": [
    {
     "name": "stdout",
     "output_type": "stream",
     "text": [
      "['hzy', 'hjh', 'hm']\n"
     ]
    }
   ],
   "source": [
    "print(friends[-3:])\n",
    "# last three elements"
   ]
  },
  {
   "cell_type": "markdown",
   "id": "0d2c0b1f",
   "metadata": {},
   "source": [
    "TRAVERE the slice"
   ]
  },
  {
   "cell_type": "code",
   "execution_count": 44,
   "id": "a6c7d714",
   "metadata": {},
   "outputs": [
    {
     "name": "stdout",
     "output_type": "stream",
     "text": [
      "Hzy\n",
      "Hjh\n",
      "Hm\n"
     ]
    }
   ],
   "source": [
    "friends = ['lbh', 'zz', 'hzy', 'hjh', 'hm']\n",
    "for friend in friends[-3:]:\n",
    "    print (friend.title())"
   ]
  },
  {
   "cell_type": "markdown",
   "id": "0d9e7e52",
   "metadata": {},
   "source": [
    "DUPLICATE the list"
   ]
  },
  {
   "cell_type": "code",
   "execution_count": 45,
   "id": "ba0208c5",
   "metadata": {},
   "outputs": [
    {
     "name": "stdout",
     "output_type": "stream",
     "text": [
      "['lbh', 'zz', 'hzy', 'hjh', 'hm']\n"
     ]
    }
   ],
   "source": [
    "friends = ['lbh', 'zz', 'hzy', 'hjh', 'hm']\n",
    "m_friends = friends[:]\n",
    "print(m_friends)"
   ]
  },
  {
   "cell_type": "code",
   "execution_count": null,
   "id": "0110353e",
   "metadata": {},
   "outputs": [],
   "source": []
  }
 ],
 "metadata": {
  "kernelspec": {
   "display_name": "Python 3 (ipykernel)",
   "language": "python",
   "name": "python3"
  },
  "language_info": {
   "codemirror_mode": {
    "name": "ipython",
    "version": 3
   },
   "file_extension": ".py",
   "mimetype": "text/x-python",
   "name": "python",
   "nbconvert_exporter": "python",
   "pygments_lexer": "ipython3",
   "version": "3.7.3"
  }
 },
 "nbformat": 4,
 "nbformat_minor": 5
}
