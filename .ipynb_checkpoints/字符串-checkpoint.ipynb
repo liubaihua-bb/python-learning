{
 "cells": [
  {
   "cell_type": "markdown",
   "id": "cd5c001d",
   "metadata": {},
   "source": [
    "运行hello word"
   ]
  },
  {
   "cell_type": "code",
   "execution_count": 1,
   "id": "a128809a",
   "metadata": {},
   "outputs": [
    {
     "name": "stdout",
     "output_type": "stream",
     "text": [
      "hello python world!\n"
     ]
    }
   ],
   "source": [
    "print(\"hello python world!\")"
   ]
  },
  {
   "cell_type": "markdown",
   "id": "bfe400dc",
   "metadata": {},
   "source": [
    "f字符串"
   ]
  },
  {
   "cell_type": "code",
   "execution_count": 4,
   "id": "890e69a7",
   "metadata": {},
   "outputs": [
    {
     "name": "stdout",
     "output_type": "stream",
     "text": [
      "Liu Baihua\n"
     ]
    }
   ],
   "source": [
    "first_name = \"Liu\"\n",
    "last_name = \"Baihua\"\n",
    "full_name = f\"{first_name} {last_name}\"\n",
    "print(full_name)"
   ]
  },
  {
   "cell_type": "code",
   "execution_count": 5,
   "id": "d104f5e0",
   "metadata": {},
   "outputs": [
    {
     "name": "stdout",
     "output_type": "stream",
     "text": [
      "Hello,Liu Baihua\n"
     ]
    }
   ],
   "source": [
    "print(f\"Hello,{full_name}\")"
   ]
  },
  {
   "cell_type": "markdown",
   "id": "71d1a36e",
   "metadata": {},
   "source": [
    "修改字符串大小写"
   ]
  },
  {
   "cell_type": "code",
   "execution_count": 1,
   "id": "bc30c498",
   "metadata": {},
   "outputs": [
    {
     "name": "stdout",
     "output_type": "stream",
     "text": [
      "Liu Baihua\n"
     ]
    }
   ],
   "source": [
    "name = \"liu baihua\"\n",
    "print(name.title())"
   ]
  },
  {
   "cell_type": "code",
   "execution_count": 2,
   "id": "3d14943d",
   "metadata": {},
   "outputs": [
    {
     "name": "stdout",
     "output_type": "stream",
     "text": [
      "LIU BAIHUA\n"
     ]
    }
   ],
   "source": [
    "print(name.upper())"
   ]
  },
  {
   "cell_type": "code",
   "execution_count": 3,
   "id": "13fd245f",
   "metadata": {},
   "outputs": [
    {
     "name": "stdout",
     "output_type": "stream",
     "text": [
      "liu baihua\n"
     ]
    }
   ],
   "source": [
    "print(name.lower())"
   ]
  },
  {
   "cell_type": "markdown",
   "id": "08f6ce72",
   "metadata": {},
   "source": [
    "制表符\\t"
   ]
  },
  {
   "cell_type": "code",
   "execution_count": 4,
   "id": "48be5def",
   "metadata": {},
   "outputs": [
    {
     "name": "stdout",
     "output_type": "stream",
     "text": [
      "\tpython\n"
     ]
    }
   ],
   "source": [
    "print(\"\\tpython\")"
   ]
  },
  {
   "cell_type": "markdown",
   "id": "f0ffee6e",
   "metadata": {},
   "source": [
    "换行符\\n"
   ]
  },
  {
   "cell_type": "code",
   "execution_count": 5,
   "id": "e972efdd",
   "metadata": {},
   "outputs": [
    {
     "name": "stdout",
     "output_type": "stream",
     "text": [
      "python\n",
      "C\n"
     ]
    }
   ],
   "source": [
    "print(\"python\\nC\")"
   ]
  },
  {
   "cell_type": "code",
   "execution_count": 7,
   "id": "63812e7b",
   "metadata": {},
   "outputs": [
    {
     "name": "stdout",
     "output_type": "stream",
     "text": [
      "python\n",
      "\tC\n"
     ]
    }
   ],
   "source": [
    "print(\"python\\n\\tC\")"
   ]
  },
  {
   "cell_type": "code",
   "execution_count": null,
   "id": "ae2726ab",
   "metadata": {},
   "outputs": [],
   "source": []
  },
  {
   "cell_type": "code",
   "execution_count": null,
   "id": "d8be37fe",
   "metadata": {},
   "outputs": [],
   "source": [
    "name = \"python \""
   ]
  }
 ],
 "metadata": {
  "kernelspec": {
   "display_name": "Python 3 (ipykernel)",
   "language": "python",
   "name": "python3"
  },
  "language_info": {
   "codemirror_mode": {
    "name": "ipython",
    "version": 3
   },
   "file_extension": ".py",
   "mimetype": "text/x-python",
   "name": "python",
   "nbconvert_exporter": "python",
   "pygments_lexer": "ipython3",
   "version": "3.7.3"
  }
 },
 "nbformat": 4,
 "nbformat_minor": 5
}
