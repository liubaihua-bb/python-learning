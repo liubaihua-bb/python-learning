{
 "cells": [
  {
   "cell_type": "code",
   "execution_count": 1,
   "id": "f0541414",
   "metadata": {},
   "outputs": [
    {
     "name": "stdout",
     "output_type": "stream",
     "text": [
      "3.1415926535\n",
      "8979323846\n",
      "2643383279\n"
     ]
    }
   ],
   "source": [
    "with open('pi.txt') as file_object:\n",
    "    contents = file_object.read()\n",
    "print(contents)"
   ]
  },
  {
   "cell_type": "code",
   "execution_count": 3,
   "id": "930841c2",
   "metadata": {},
   "outputs": [
    {
     "name": "stdout",
     "output_type": "stream",
     "text": [
      "3.1415926535\n",
      "8979323846\n",
      "2643383279\n"
     ]
    }
   ],
   "source": [
    "print(contents.rstrip())#删除多余空行"
   ]
  },
  {
   "cell_type": "code",
   "execution_count": 6,
   "id": "90889f70",
   "metadata": {},
   "outputs": [
    {
     "name": "stdout",
     "output_type": "stream",
     "text": [
      "3.1415926535\n",
      "8979323846\n",
      "2643383279\n"
     ]
    }
   ],
   "source": [
    "with open('pi.txt') as file_object:\n",
    "    for line in file_object:\n",
    "#         print(line)\n",
    "        print(line.rstrip())"
   ]
  },
  {
   "cell_type": "code",
   "execution_count": 9,
   "id": "ba84b79a",
   "metadata": {},
   "outputs": [
    {
     "name": "stdout",
     "output_type": "stream",
     "text": [
      "3.141592653589793238462643383279\n",
      "32\n"
     ]
    }
   ],
   "source": [
    "# delete spaces\n",
    "with open('pi.txt') as file_object:\n",
    "    lines = file_object.readlines()\n",
    "pi = ''\n",
    "for line in lines:\n",
    "    pi += line.rstrip()\n",
    "\n",
    "print(pi)\n",
    "print(len(pi))"
   ]
  },
  {
   "cell_type": "markdown",
   "id": "d0352a68",
   "metadata": {},
   "source": [
    "write file"
   ]
  },
  {
   "cell_type": "code",
   "execution_count": 13,
   "id": "84672b12",
   "metadata": {},
   "outputs": [],
   "source": [
    "filename = 'programming.txt'\n",
    "\n",
    "with open(filename, 'w') as file_object:# w:write  r:read(default)  a:附加模式  r+：读写模式\n",
    "    file_object.write(\"I love programming.\\n\")    \n",
    "    file_object.write(\"I love programming2.\")\n",
    "    \n",
    "with open(filename, 'a') as file_object:\n",
    "    file_object.write(\"\\nBecause it is funny!\")"
   ]
  },
  {
   "cell_type": "markdown",
   "id": "74c2e691",
   "metadata": {},
   "source": [
    "error异常"
   ]
  },
  {
   "cell_type": "code",
   "execution_count": 17,
   "id": "047444c0",
   "metadata": {},
   "outputs": [
    {
     "name": "stdout",
     "output_type": "stream",
     "text": [
      "you cannot divide by zero\n"
     ]
    }
   ],
   "source": [
    "try:\n",
    "    answer = 5/0\n",
    "except ZeroDivisionError:\n",
    "    print(\"you cannot divide by zero\")\n",
    "else:\n",
    "    print(answer)"
   ]
  },
  {
   "cell_type": "markdown",
   "id": "2197aa56",
   "metadata": {},
   "source": [
    "split() : create a word list by a string"
   ]
  },
  {
   "cell_type": "code",
   "execution_count": 18,
   "id": "94985c8f",
   "metadata": {},
   "outputs": [
    {
     "data": {
      "text/plain": [
       "['alice', 'in', 'wonderland']"
      ]
     },
     "execution_count": 18,
     "metadata": {},
     "output_type": "execute_result"
    }
   ],
   "source": [
    "title = \"alice in wonderland\"\n",
    "title.split()"
   ]
  },
  {
   "cell_type": "code",
   "execution_count": 19,
   "id": "46cb2c6c",
   "metadata": {},
   "outputs": [
    {
     "name": "stdout",
     "output_type": "stream",
     "text": [
      "3\n"
     ]
    }
   ],
   "source": [
    "print(len(title.split()))"
   ]
  },
  {
   "cell_type": "markdown",
   "id": "70dfc7ba",
   "metadata": {},
   "source": [
    "json存储数据"
   ]
  },
  {
   "cell_type": "code",
   "execution_count": 21,
   "id": "07204da6",
   "metadata": {},
   "outputs": [],
   "source": [
    "import json\n",
    "\n",
    "numbers = [2,3,5,7,9]\n",
    "\n",
    "filename = 'numbers.json'\n",
    "with open(filename, 'w') as f:\n",
    "    json.dump(numbers, f)"
   ]
  },
  {
   "cell_type": "code",
   "execution_count": 22,
   "id": "dac88822",
   "metadata": {},
   "outputs": [
    {
     "name": "stdout",
     "output_type": "stream",
     "text": [
      "[2, 3, 5, 7, 9]\n"
     ]
    }
   ],
   "source": [
    "with open('numbers.json') as f:\n",
    "    nums = json.load(f)\n",
    "    \n",
    "print(nums)"
   ]
  },
  {
   "cell_type": "code",
   "execution_count": null,
   "id": "c83094ce",
   "metadata": {},
   "outputs": [],
   "source": []
  }
 ],
 "metadata": {
  "kernelspec": {
   "display_name": "Python 3 (ipykernel)",
   "language": "python",
   "name": "python3"
  },
  "language_info": {
   "codemirror_mode": {
    "name": "ipython",
    "version": 3
   },
   "file_extension": ".py",
   "mimetype": "text/x-python",
   "name": "python",
   "nbconvert_exporter": "python",
   "pygments_lexer": "ipython3",
   "version": "3.7.3"
  }
 },
 "nbformat": 4,
 "nbformat_minor": 5
}
