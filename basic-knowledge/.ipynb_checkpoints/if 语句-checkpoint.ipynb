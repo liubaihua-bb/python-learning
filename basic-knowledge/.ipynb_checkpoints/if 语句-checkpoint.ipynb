{
 "cells": [
  {
   "cell_type": "code",
   "execution_count": 7,
   "id": "c6fa4ad7",
   "metadata": {},
   "outputs": [
    {
     "name": "stdout",
     "output_type": "stream",
     "text": [
      "LBH\n",
      "zz\n",
      "Hzy\n",
      "hjh\n",
      "HM\n"
     ]
    }
   ],
   "source": [
    "friends = ['lbh', 'zz', 'hzy', 'hjh', 'hm']\n",
    "for friend in friends:\n",
    "    if (friend == 'lbh') or (friend == 'hm'):\n",
    "        print(friend.upper())\n",
    "    elif friend == 'hzy':\n",
    "        print(friend.title())\n",
    "    else:\n",
    "        print(friend)\n",
    "        \n",
    "# and \n",
    "# or"
   ]
  },
  {
   "cell_type": "markdown",
   "id": "79fd2fbf",
   "metadata": {},
   "source": [
    "check whether specified element is in list"
   ]
  },
  {
   "cell_type": "code",
   "execution_count": 5,
   "id": "cdc04ea3",
   "metadata": {},
   "outputs": [
    {
     "name": "stdout",
     "output_type": "stream",
     "text": [
      "False\n",
      "True\n"
     ]
    }
   ],
   "source": [
    "friends = ['lbh', 'zz', 'hzy', 'hjh', 'hm']\n",
    "print('df' in friends)\n",
    "print('df' not in friends)"
   ]
  },
  {
   "cell_type": "markdown",
   "id": "7d5178ac",
   "metadata": {},
   "source": [
    "check whether the List is null"
   ]
  },
  {
   "cell_type": "code",
   "execution_count": 8,
   "id": "ea0a56b3",
   "metadata": {},
   "outputs": [
    {
     "name": "stdout",
     "output_type": "stream",
     "text": [
      "the list is null\n"
     ]
    }
   ],
   "source": [
    "friends = []\n",
    "if friends:\n",
    "    print(friends)\n",
    "else:\n",
    "    print(\"the list is null\")"
   ]
  },
  {
   "cell_type": "code",
   "execution_count": null,
   "id": "8da2f61f",
   "metadata": {},
   "outputs": [],
   "source": []
  }
 ],
 "metadata": {
  "kernelspec": {
   "display_name": "Python 3 (ipykernel)",
   "language": "python",
   "name": "python3"
  },
  "language_info": {
   "codemirror_mode": {
    "name": "ipython",
    "version": 3
   },
   "file_extension": ".py",
   "mimetype": "text/x-python",
   "name": "python",
   "nbconvert_exporter": "python",
   "pygments_lexer": "ipython3",
   "version": "3.7.3"
  }
 },
 "nbformat": 4,
 "nbformat_minor": 5
}
