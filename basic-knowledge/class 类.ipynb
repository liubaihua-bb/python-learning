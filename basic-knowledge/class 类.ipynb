{
 "cells": [
  {
   "cell_type": "code",
   "execution_count": 9,
   "id": "db54af50",
   "metadata": {},
   "outputs": [],
   "source": [
    "class Dog:\n",
    "    \"\"\"A trial to simulate the dog.\"\"\"\n",
    "    def __init__(self, name, age):#init前后各有两个下划线，创建时会自动调用这个函数\n",
    "        \"\"\"initialize attribute name and age\"\"\"\n",
    "        self.name = name\n",
    "        self.age = age\n",
    "        \n",
    "    def sit(self):\n",
    "        print(f\"{self.name} is sitting\")\n",
    "        \n",
    "    def roll(self):\n",
    "        print(f\"{self.name} is rolling\")"
   ]
  },
  {
   "cell_type": "code",
   "execution_count": 10,
   "id": "9a24bed3",
   "metadata": {},
   "outputs": [
    {
     "name": "stdout",
     "output_type": "stream",
     "text": [
      "Willie\n"
     ]
    }
   ],
   "source": [
    "my_dog = Dog('Willie', 6)\n",
    "print(my_dog.name)"
   ]
  },
  {
   "cell_type": "code",
   "execution_count": 11,
   "id": "bbae2c18",
   "metadata": {},
   "outputs": [
    {
     "name": "stdout",
     "output_type": "stream",
     "text": [
      "Willie is sitting\n"
     ]
    }
   ],
   "source": [
    "my_dog.sit()"
   ]
  },
  {
   "cell_type": "markdown",
   "id": "a597134b",
   "metadata": {},
   "source": [
    "Car class"
   ]
  },
  {
   "cell_type": "code",
   "execution_count": 18,
   "id": "388a95b4",
   "metadata": {},
   "outputs": [],
   "source": [
    "class Car:\n",
    "    def __init__(self, make, model, year):\n",
    "        self.make = make\n",
    "        self.model = model\n",
    "        self.year = year\n",
    "        self.mile = 0\n",
    "    \n",
    "    def get_info(self):\n",
    "        return f\"{self.year} {self.make} {self.model}\"\n",
    "    \n",
    "    def get_mile(self):\n",
    "        print(f\"miles: {self.mile}\")\n",
    "    \n",
    "    def update_mile(self, mile):\n",
    "        self.mile = mile\n"
   ]
  },
  {
   "cell_type": "code",
   "execution_count": 19,
   "id": "84ad962b",
   "metadata": {},
   "outputs": [
    {
     "data": {
      "text/plain": [
       "'2019 Audi A4'"
      ]
     },
     "execution_count": 19,
     "metadata": {},
     "output_type": "execute_result"
    }
   ],
   "source": [
    "my_car = Car('Audi', 'A4', '2019')\n",
    "my_car.get_info()"
   ]
  },
  {
   "cell_type": "code",
   "execution_count": 20,
   "id": "5f41fef7",
   "metadata": {},
   "outputs": [
    {
     "name": "stdout",
     "output_type": "stream",
     "text": [
      "miles: 0\n"
     ]
    }
   ],
   "source": [
    "my_car.get_mile()"
   ]
  },
  {
   "cell_type": "code",
   "execution_count": 21,
   "id": "2c8dcaab",
   "metadata": {},
   "outputs": [
    {
     "name": "stdout",
     "output_type": "stream",
     "text": [
      "miles: 50\n"
     ]
    }
   ],
   "source": [
    "my_car.update_mile(50)\n",
    "my_car.get_mile()"
   ]
  },
  {
   "cell_type": "markdown",
   "id": "97f5f0b1",
   "metadata": {},
   "source": [
    "inherit继承"
   ]
  },
  {
   "cell_type": "code",
   "execution_count": 30,
   "id": "272086d9",
   "metadata": {},
   "outputs": [],
   "source": [
    "class Battery:\n",
    "    \"\"\"可以将电瓶单独模拟出来\"\"\"\n",
    "    def __init__(self, battery_size=75):\n",
    "        self.battery_size = battery_size\n",
    "        \n",
    "    def get_battery(self):\n",
    "        print(f\"battery:{self.battery_size}\")"
   ]
  },
  {
   "cell_type": "code",
   "execution_count": 31,
   "id": "3b8b44f0",
   "metadata": {},
   "outputs": [],
   "source": [
    "class ElectricCar(Car):\n",
    "    def __init__(self, make, model, year):\n",
    "        \"\"\"super()用来调用父类的方法，让电动汽车实例包含这个方法中定义的所有属性\"\"\"\n",
    "        super().__init__(make, model, year)\n",
    "        \"\"\"初始化电动汽车的特有属性\"\"\"\n",
    "        self.battery_size = 75\n",
    "        self.battery = Battery()#直接将实例作为属性，然后调用\n",
    "    \n",
    "#     def get_battery(self):\n",
    "#         print(f\"battery:{self.battery_size}\")"
   ]
  },
  {
   "cell_type": "code",
   "execution_count": 32,
   "id": "04971ae8",
   "metadata": {},
   "outputs": [
    {
     "data": {
      "text/plain": [
       "'2019 tesla model s'"
      ]
     },
     "execution_count": 32,
     "metadata": {},
     "output_type": "execute_result"
    }
   ],
   "source": [
    "my_tesla = ElectricCar('tesla', 'model s', 2019)\n",
    "my_tesla.get_info()"
   ]
  },
  {
   "cell_type": "code",
   "execution_count": 34,
   "id": "81a71c4d",
   "metadata": {},
   "outputs": [
    {
     "name": "stdout",
     "output_type": "stream",
     "text": [
      "battery:75\n"
     ]
    }
   ],
   "source": [
    "# my_tesla.get_battery()\n",
    "my_tesla.battery.get_battery()"
   ]
  },
  {
   "cell_type": "code",
   "execution_count": null,
   "id": "94c3cf5c",
   "metadata": {},
   "outputs": [],
   "source": []
  }
 ],
 "metadata": {
  "kernelspec": {
   "display_name": "Python 3 (ipykernel)",
   "language": "python",
   "name": "python3"
  },
  "language_info": {
   "codemirror_mode": {
    "name": "ipython",
    "version": 3
   },
   "file_extension": ".py",
   "mimetype": "text/x-python",
   "name": "python",
   "nbconvert_exporter": "python",
   "pygments_lexer": "ipython3",
   "version": "3.7.3"
  }
 },
 "nbformat": 4,
 "nbformat_minor": 5
}
