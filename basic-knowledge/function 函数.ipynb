{
 "cells": [
  {
   "cell_type": "code",
   "execution_count": 2,
   "id": "943b715c",
   "metadata": {},
   "outputs": [
    {
     "name": "stdout",
     "output_type": "stream",
     "text": [
      "Hello world!\n"
     ]
    }
   ],
   "source": [
    "def hello_world():\n",
    "    \"\"\"hello~~~\"\"\"\n",
    "    print(\"Hello world!\")\n",
    "\n",
    "hello_world()"
   ]
  },
  {
   "cell_type": "code",
   "execution_count": 6,
   "id": "a4c8257f",
   "metadata": {},
   "outputs": [
    {
     "name": "stdout",
     "output_type": "stream",
     "text": [
      "Hello Jesse!\n"
     ]
    }
   ],
   "source": [
    "def hello(username):\n",
    "    print(f\"Hello {username.title()}!\")\n",
    "\n",
    "hello(\"jesse\")"
   ]
  },
  {
   "cell_type": "code",
   "execution_count": 8,
   "id": "0f9fa8fb",
   "metadata": {},
   "outputs": [
    {
     "name": "stdout",
     "output_type": "stream",
     "text": [
      "Liubaihua\n"
     ]
    }
   ],
   "source": [
    "def get_formatted(first_name, last_name):\n",
    "    return f\"{first_name}{last_name}\".title()\n",
    "name = get_formatted('liu','baihua')\n",
    "print(name)"
   ]
  },
  {
   "cell_type": "markdown",
   "id": "c15757e6",
   "metadata": {},
   "source": [
    "如果想要参数可选，就在定义函数时为该参数设置默认值并且将其放到最后一个位置"
   ]
  },
  {
   "cell_type": "markdown",
   "id": "2dd2bf27",
   "metadata": {},
   "source": [
    "传递列表"
   ]
  },
  {
   "cell_type": "code",
   "execution_count": 10,
   "id": "e5f7e936",
   "metadata": {},
   "outputs": [
    {
     "name": "stdout",
     "output_type": "stream",
     "text": [
      "hello a\n",
      "hello b\n",
      "hello c\n"
     ]
    }
   ],
   "source": [
    "def hello(names):\n",
    "    for name in names:\n",
    "        msg = f\"hello {name}\"\n",
    "        print (msg)\n",
    "\n",
    "usernames = ['a', 'b', 'c']\n",
    "hello(usernames)"
   ]
  },
  {
   "cell_type": "markdown",
   "id": "cab4cf5b",
   "metadata": {},
   "source": [
    "传递任意数量的实参"
   ]
  },
  {
   "cell_type": "code",
   "execution_count": 11,
   "id": "613de0fe",
   "metadata": {},
   "outputs": [
    {
     "name": "stdout",
     "output_type": "stream",
     "text": [
      "a\n",
      "a\n",
      "b\n",
      "c\n"
     ]
    }
   ],
   "source": [
    "def pizza(*toppings):\n",
    "#     *创建一个空元组，将收到的所有值都封装到这个元组中，即可以传递任意数量的实参\n",
    "    for topping in toppings:\n",
    "        print(topping)\n",
    "\n",
    "pizza('a')\n",
    "pizza('a','b','c')"
   ]
  },
  {
   "cell_type": "markdown",
   "id": "a0ad5a3f",
   "metadata": {},
   "source": [
    "Use any number of keyword arguments"
   ]
  },
  {
   "cell_type": "code",
   "execution_count": 14,
   "id": "4148cf0a",
   "metadata": {},
   "outputs": [
    {
     "name": "stdout",
     "output_type": "stream",
     "text": [
      "{'gender': 'female', 'first_name': 'liu', 'last_name': 'baihua'}\n"
     ]
    }
   ],
   "source": [
    "def profile(first, last, **user_info):\n",
    "#     **创建了一个字典\n",
    "    user_info['first_name'] = first\n",
    "    user_info['last_name'] = last\n",
    "    return user_info\n",
    "\n",
    "user = profile('liu','baihua',gender='female')\n",
    "print(user)"
   ]
  },
  {
   "cell_type": "code",
   "execution_count": null,
   "id": "b949925a",
   "metadata": {},
   "outputs": [],
   "source": []
  }
 ],
 "metadata": {
  "kernelspec": {
   "display_name": "Python 3 (ipykernel)",
   "language": "python",
   "name": "python3"
  },
  "language_info": {
   "codemirror_mode": {
    "name": "ipython",
    "version": 3
   },
   "file_extension": ".py",
   "mimetype": "text/x-python",
   "name": "python",
   "nbconvert_exporter": "python",
   "pygments_lexer": "ipython3",
   "version": "3.7.3"
  }
 },
 "nbformat": 4,
 "nbformat_minor": 5
}
