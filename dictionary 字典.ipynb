{
 "cells": [
  {
   "cell_type": "markdown",
   "id": "dbcce26f",
   "metadata": {},
   "source": [
    "{}"
   ]
  },
  {
   "cell_type": "code",
   "execution_count": 9,
   "id": "a36e217b",
   "metadata": {},
   "outputs": [
    {
     "name": "stdout",
     "output_type": "stream",
     "text": [
      "female\n"
     ]
    }
   ],
   "source": [
    "lbh = {'gender': 'female','age': 20}\n",
    "print(lbh['gender'])"
   ]
  },
  {
   "cell_type": "code",
   "execution_count": 10,
   "id": "513ac8fd",
   "metadata": {},
   "outputs": [
    {
     "name": "stdout",
     "output_type": "stream",
     "text": [
      "{'gender': 'female', 'age': 20, 'occupation': 'student'}\n"
     ]
    }
   ],
   "source": [
    "lbh['occupation'] = 'student'\n",
    "print(lbh)"
   ]
  },
  {
   "cell_type": "markdown",
   "id": "0652e076",
   "metadata": {},
   "source": [
    "delete key-value pair"
   ]
  },
  {
   "cell_type": "code",
   "execution_count": 11,
   "id": "5558fc7b",
   "metadata": {},
   "outputs": [
    {
     "name": "stdout",
     "output_type": "stream",
     "text": [
      "{'age': 20, 'occupation': 'student'}\n"
     ]
    }
   ],
   "source": [
    "del lbh['gender']\n",
    "print(lbh)"
   ]
  },
  {
   "cell_type": "code",
   "execution_count": 12,
   "id": "5ad5a78d",
   "metadata": {},
   "outputs": [
    {
     "name": "stdout",
     "output_type": "stream",
     "text": [
      "294\n"
     ]
    }
   ],
   "source": [
    "lbh = {\n",
    "    'gender':'female',\n",
    "    'age': 20,\n",
    "    'occupation':'student',\n",
    "    'university':'Tongji',\n",
    "    'birthplace':'Chongqing',\n",
    "    'preliminary exam':380,\n",
    "    'reexamination':294\n",
    "}\n",
    "print(lbh['reexamination'])"
   ]
  },
  {
   "cell_type": "code",
   "execution_count": 14,
   "id": "bfa90ab5",
   "metadata": {},
   "outputs": [
    {
     "name": "stdout",
     "output_type": "stream",
     "text": [
      "no boyfriend\n"
     ]
    }
   ],
   "source": [
    "value = lbh.get('boyfriend','no boyfriend')# if there is no corresponding key,return the second parameter\n",
    "print(value)"
   ]
  },
  {
   "cell_type": "markdown",
   "id": "8a0aadba",
   "metadata": {},
   "source": [
    "TRAVERSE the dictionary"
   ]
  },
  {
   "cell_type": "code",
   "execution_count": 16,
   "id": "5b33834d",
   "metadata": {},
   "outputs": [
    {
     "name": "stdout",
     "output_type": "stream",
     "text": [
      "gender:female\n",
      "age:20\n",
      "occupation:student\n",
      "university:Tongji\n",
      "birthplace:Chongqing\n",
      "preliminary exam:380\n",
      "reexamination:294\n"
     ]
    }
   ],
   "source": [
    "for key,value in lbh.items() :\n",
    "    print(f\"{key}:{value}\")\n",
    "\n",
    "# pay attention to the ITEMS() , it returns a list of key-value pair"
   ]
  },
  {
   "cell_type": "code",
   "execution_count": 21,
   "id": "5848af69",
   "metadata": {},
   "outputs": [
    {
     "name": "stdout",
     "output_type": "stream",
     "text": [
      "gender\n",
      "age\n",
      "occupation\n",
      "university\n",
      "birthplace\n",
      "preliminary exam\n",
      "reexamination\n"
     ]
    }
   ],
   "source": [
    "for key in lbh.keys():\n",
    "    print(key)\n",
    "# KEYS() 键列表"
   ]
  },
  {
   "cell_type": "code",
   "execution_count": 22,
   "id": "12afecfe",
   "metadata": {},
   "outputs": [
    {
     "name": "stdout",
     "output_type": "stream",
     "text": [
      "female\n",
      "20\n",
      "student\n",
      "Tongji\n",
      "Chongqing\n",
      "380\n",
      "294\n"
     ]
    }
   ],
   "source": [
    "for value in lbh.values():\n",
    "    print(value)\n",
    "# VALUES() 值列表"
   ]
  },
  {
   "cell_type": "code",
   "execution_count": 20,
   "id": "deacaf26",
   "metadata": {},
   "outputs": [
    {
     "name": "stdout",
     "output_type": "stream",
     "text": [
      "age\n",
      "birthplace\n",
      "gender\n",
      "occupation\n",
      "preliminary exam\n",
      "reexamination\n",
      "university\n"
     ]
    }
   ],
   "source": [
    "for key in sorted(lbh.keys()):\n",
    "    print(key)\n",
    "\n",
    "# sort"
   ]
  },
  {
   "cell_type": "code",
   "execution_count": 24,
   "id": "af3c46e5",
   "metadata": {},
   "outputs": [],
   "source": [
    "# for value in sorted(lbh.values()):\n",
    "#     print(value)\n",
    "\n",
    "# sort() can't sort the int type data"
   ]
  },
  {
   "cell_type": "markdown",
   "id": "e5dacf57",
   "metadata": {},
   "source": [
    "function set() can extract different values in all values, namely set of all mentioned values, not include repeated values"
   ]
  },
  {
   "cell_type": "code",
   "execution_count": 25,
   "id": "8b587440",
   "metadata": {},
   "outputs": [],
   "source": [
    "# for value in set(lbh.values())"
   ]
  },
  {
   "cell_type": "markdown",
   "id": "599f532c",
   "metadata": {},
   "source": [
    "Dictionary List"
   ]
  },
  {
   "cell_type": "code",
   "execution_count": 27,
   "id": "6a3b19a1",
   "metadata": {},
   "outputs": [
    {
     "name": "stdout",
     "output_type": "stream",
     "text": [
      "{'color': 'green', 'points': 5, 'speed': 'slow'}\n",
      "{'color': 'green', 'points': 5, 'speed': 'slow'}\n",
      "{'color': 'green', 'points': 5, 'speed': 'slow'}\n",
      "{'color': 'green', 'points': 5, 'speed': 'slow'}\n",
      "{'color': 'green', 'points': 5, 'speed': 'slow'}\n",
      "30\n"
     ]
    }
   ],
   "source": [
    "aliens = []\n",
    "for alien_number in range(30):\n",
    "    new_alien = {'color': 'green', 'points': 5, 'speed': 'slow'}\n",
    "    aliens.append(new_alien)\n",
    "# create 30 aliens\n",
    "for alien in aliens[:5]:\n",
    "    print(alien)\n",
    "print(len(aliens))"
   ]
  },
  {
   "cell_type": "code",
   "execution_count": 28,
   "id": "48384058",
   "metadata": {},
   "outputs": [
    {
     "name": "stdout",
     "output_type": "stream",
     "text": [
      "{'color': 'yellow', 'points': 10, 'speed': 'medium'}\n",
      "{'color': 'yellow', 'points': 10, 'speed': 'medium'}\n",
      "{'color': 'yellow', 'points': 10, 'speed': 'medium'}\n",
      "{'color': 'yellow', 'points': 10, 'speed': 'medium'}\n",
      "{'color': 'yellow', 'points': 10, 'speed': 'medium'}\n",
      "{'color': 'green', 'points': 5, 'speed': 'slow'}\n",
      "{'color': 'green', 'points': 5, 'speed': 'slow'}\n",
      "{'color': 'green', 'points': 5, 'speed': 'slow'}\n",
      "{'color': 'green', 'points': 5, 'speed': 'slow'}\n",
      "{'color': 'green', 'points': 5, 'speed': 'slow'}\n"
     ]
    }
   ],
   "source": [
    "for alien in aliens[:5]:\n",
    "    alien['color'] = 'yellow'\n",
    "    alien['points'] = 10\n",
    "    alien['speed'] = 'medium'\n",
    "for alien in aliens[:10]:\n",
    "    print(alien)"
   ]
  },
  {
   "cell_type": "markdown",
   "id": "7e9f34cf",
   "metadata": {},
   "source": [
    "list in dictionary"
   ]
  },
  {
   "cell_type": "code",
   "execution_count": 29,
   "id": "ee8ba988",
   "metadata": {},
   "outputs": [
    {
     "name": "stdout",
     "output_type": "stream",
     "text": [
      "['mushrooms', 'extra cheese']\n"
     ]
    }
   ],
   "source": [
    "pizza = {\n",
    "    'crust': 'thick',\n",
    "    'toppings': ['mushrooms', 'extra cheese']\n",
    "}\n",
    "print(pizza['toppings'])"
   ]
  },
  {
   "cell_type": "code",
   "execution_count": null,
   "id": "6ac4741d",
   "metadata": {},
   "outputs": [],
   "source": []
  }
 ],
 "metadata": {
  "kernelspec": {
   "display_name": "Python 3 (ipykernel)",
   "language": "python",
   "name": "python3"
  },
  "language_info": {
   "codemirror_mode": {
    "name": "ipython",
    "version": 3
   },
   "file_extension": ".py",
   "mimetype": "text/x-python",
   "name": "python",
   "nbconvert_exporter": "python",
   "pygments_lexer": "ipython3",
   "version": "3.7.3"
  }
 },
 "nbformat": 4,
 "nbformat_minor": 5
}
