{
 "cells": [
  {
   "cell_type": "code",
   "execution_count": 3,
   "id": "7af19130",
   "metadata": {},
   "outputs": [],
   "source": [
    "import os"
   ]
  },
  {
   "cell_type": "code",
   "execution_count": 4,
   "id": "07165b97",
   "metadata": {},
   "outputs": [],
   "source": [
    "root_dir = \"dataset/train\""
   ]
  },
  {
   "cell_type": "code",
   "execution_count": 5,
   "id": "c0572549",
   "metadata": {},
   "outputs": [],
   "source": [
    "label_dir = \"ants\""
   ]
  },
  {
   "cell_type": "code",
   "execution_count": 6,
   "id": "f7db7c9d",
   "metadata": {},
   "outputs": [],
   "source": [
    "path = os.path.join(root_dir, label_dir)"
   ]
  },
  {
   "cell_type": "code",
   "execution_count": 7,
   "id": "b0fa46bb",
   "metadata": {},
   "outputs": [
    {
     "data": {
      "text/plain": [
       "'dataset/train\\\\ants'"
      ]
     },
     "execution_count": 7,
     "metadata": {},
     "output_type": "execute_result"
    }
   ],
   "source": [
    "path"
   ]
  },
  {
   "cell_type": "code",
   "execution_count": 9,
   "id": "973d1366",
   "metadata": {},
   "outputs": [],
   "source": [
    "img_path = os.listdir(path)"
   ]
  },
  {
   "cell_type": "code",
   "execution_count": 10,
   "id": "895ac82c",
   "metadata": {},
   "outputs": [
    {
     "data": {
      "text/plain": [
       "['0013035.jpg',\n",
       " '1030023514_aad5c608f9.jpg',\n",
       " '1095476100_3906d8afde.jpg',\n",
       " '1099452230_d1949d3250.jpg',\n",
       " '116570827_e9c126745d.jpg',\n",
       " '1225872729_6f0856588f.jpg',\n",
       " '1262877379_64fcada201.jpg',\n",
       " '1269756697_0bce92cdab.jpg',\n",
       " '1286984635_5119e80de1.jpg',\n",
       " '132478121_2a430adea2.jpg',\n",
       " '1360291657_dc248c5eea.jpg',\n",
       " '1368913450_e146e2fb6d.jpg',\n",
       " '1473187633_63ccaacea6.jpg',\n",
       " '148715752_302c84f5a4.jpg',\n",
       " '1489674356_09d48dde0a.jpg',\n",
       " '149244013_c529578289.jpg',\n",
       " '150801003_3390b73135.jpg',\n",
       " '150801171_cd86f17ed8.jpg',\n",
       " '154124431_65460430f2.jpg',\n",
       " '162603798_40b51f1654.jpg',\n",
       " '1660097129_384bf54490.jpg',\n",
       " '167890289_dd5ba923f3.jpg',\n",
       " '1693954099_46d4c20605.jpg',\n",
       " '175998972.jpg',\n",
       " '178538489_bec7649292.jpg',\n",
       " '1804095607_0341701e1c.jpg',\n",
       " '1808777855_2a895621d7.jpg',\n",
       " '188552436_605cc9b36b.jpg',\n",
       " '1917341202_d00a7f9af5.jpg',\n",
       " '1924473702_daa9aacdbe.jpg',\n",
       " '196057951_63bf063b92.jpg',\n",
       " '196757565_326437f5fe.jpg',\n",
       " '201558278_fe4caecc76.jpg',\n",
       " '201790779_527f4c0168.jpg',\n",
       " '2019439677_2db655d361.jpg',\n",
       " '207947948_3ab29d7207.jpg',\n",
       " '20935278_9190345f6b.jpg',\n",
       " '224655713_3956f7d39a.jpg',\n",
       " '2265824718_2c96f485da.jpg',\n",
       " '2265825502_fff99cfd2d.jpg',\n",
       " '226951206_d6bf946504.jpg',\n",
       " '2278278459_6b99605e50.jpg',\n",
       " '2288450226_a6e96e8fdf.jpg',\n",
       " '2288481644_83ff7e4572.jpg',\n",
       " '2292213964_ca51ce4bef.jpg',\n",
       " '24335309_c5ea483bb8.jpg',\n",
       " '245647475_9523dfd13e.jpg',\n",
       " '255434217_1b2b3fe0a4.jpg',\n",
       " '258217966_d9d90d18d3.jpg',\n",
       " '275429470_b2d7d9290b.jpg',\n",
       " '28847243_e79fe052cd.jpg',\n",
       " '318052216_84dff3f98a.jpg',\n",
       " '334167043_cbd1adaeb9.jpg',\n",
       " '339670531_94b75ae47a.jpg',\n",
       " '342438950_a3da61deab.jpg',\n",
       " '36439863_0bec9f554f.jpg',\n",
       " '374435068_7eee412ec4.jpg',\n",
       " '382971067_0bfd33afe0.jpg',\n",
       " '384191229_5779cf591b.jpg',\n",
       " '386190770_672743c9a7.jpg',\n",
       " '392382602_1b7bed32fa.jpg',\n",
       " '403746349_71384f5b58.jpg',\n",
       " '408393566_b5b694119b.jpg',\n",
       " '424119020_6d57481dab.jpg',\n",
       " '424873399_47658a91fb.jpg',\n",
       " '450057712_771b3bfc91.jpg',\n",
       " '45472593_bfd624f8dc.jpg',\n",
       " '459694881_ac657d3187.jpg',\n",
       " '460372577_f2f6a8c9fc.jpg',\n",
       " '460874319_0a45ab4d05.jpg',\n",
       " '466430434_4000737de9.jpg',\n",
       " '470127037_513711fd21.jpg',\n",
       " '474806473_ca6caab245.jpg',\n",
       " '475961153_b8c13fd405.jpg',\n",
       " '484293231_e53cfc0c89.jpg',\n",
       " '49375974_e28ba6f17e.jpg',\n",
       " '506249802_207cd979b4.jpg',\n",
       " '506249836_717b73f540.jpg',\n",
       " '512164029_c0a66b8498.jpg',\n",
       " '512863248_43c8ce579b.jpg',\n",
       " '518773929_734dbc5ff4.jpg',\n",
       " '522163566_fec115ca66.jpg',\n",
       " '522415432_2218f34bf8.jpg',\n",
       " '531979952_bde12b3bc0.jpg',\n",
       " '533848102_70a85ad6dd.jpg',\n",
       " '535522953_308353a07c.jpg',\n",
       " '540889389_48bb588b21.jpg',\n",
       " '541630764_dbd285d63c.jpg',\n",
       " '543417860_b14237f569.jpg',\n",
       " '560966032_988f4d7bc4.jpg',\n",
       " '5650366_e22b7e1065.jpg',\n",
       " '6240329_72c01e663e.jpg',\n",
       " '6240338_93729615ec.jpg',\n",
       " '649026570_e58656104b.jpg',\n",
       " '662541407_ff8db781e7.jpg',\n",
       " '67270775_e9fdf77e9d.jpg',\n",
       " '6743948_2b8c096dda.jpg',\n",
       " '684133190_35b62c0c1d.jpg',\n",
       " '69639610_95e0de17aa.jpg',\n",
       " '707895295_009cf23188.jpg',\n",
       " '7759525_1363d24e88.jpg',\n",
       " '795000156_a9900a4a71.jpg',\n",
       " '822537660_caf4ba5514.jpg',\n",
       " '82852639_52b7f7f5e3.jpg',\n",
       " '841049277_b28e58ad05.jpg',\n",
       " '886401651_f878e888cd.jpg',\n",
       " '892108839_f1aad4ca46.jpg',\n",
       " '938946700_ca1c669085.jpg',\n",
       " '957233405_25c1d1187b.jpg',\n",
       " '9715481_b3cb4114ff.jpg',\n",
       " '998118368_6ac1d91f81.jpg',\n",
       " 'ant photos.jpg',\n",
       " 'Ant_1.jpg',\n",
       " 'army-ants-red-picture.jpg',\n",
       " 'formica.jpeg',\n",
       " 'hormiga_co_por.jpg',\n",
       " 'imageNotFound.gif',\n",
       " 'kurokusa.jpg',\n",
       " 'MehdiabadiAnt2_600.jpg',\n",
       " 'Nepenthes_rafflesiana_ant.jpg',\n",
       " 'swiss-army-ant.jpg',\n",
       " 'termite-vs-ant.jpg',\n",
       " 'trap-jaw-ant-insect-bg.jpg',\n",
       " 'VietnameseAntMimicSpider.jpg']"
      ]
     },
     "execution_count": 10,
     "metadata": {},
     "output_type": "execute_result"
    }
   ],
   "source": [
    "img_path"
   ]
  },
  {
   "cell_type": "code",
   "execution_count": 12,
   "id": "5198f79e",
   "metadata": {},
   "outputs": [],
   "source": [
    "from PIL import Image\n",
    "img_name = img_path[0]\n",
    "img_item_path = os.path.join(root_dir, label_dir, img_name)\n",
    "img = Image.open(img_item_path)# get the image"
   ]
  },
  {
   "cell_type": "code",
   "execution_count": 13,
   "id": "be74d6b9",
   "metadata": {},
   "outputs": [],
   "source": [
    "img.show()"
   ]
  },
  {
   "cell_type": "code",
   "execution_count": 14,
   "id": "1551f074",
   "metadata": {},
   "outputs": [],
   "source": [
    "from torch.utils.data import Dataset\n",
    "from PIL import Image\n",
    "import os\n",
    "\n",
    "class MyData(Dataset):\n",
    "    def __init__(self, root_dir, label_dir):\n",
    "        self.root_dir = root_dir #root_dir = \"dataset/train\"\n",
    "        self.label_dir = label_dir #label_dir = \"ants\"\n",
    "        self.path = os.path.join(self.root_dir, self.label_dir) #join two dir\n",
    "        self.img_path = os.listdir(self.path) #get the list of the images under the dir\n",
    "    \n",
    "    def __getitem__(self, idx):\n",
    "        img_name = self.img_path[idx]\n",
    "        img_item_path = os.path.join(self.root_dir, self.label_dir, img_name)\n",
    "        img = Image.open(img_item_path)# get the image\n",
    "        label = self.label_dir\n",
    "        return img, label\n",
    "    \n",
    "    def __len__(self):\n",
    "        return len(self.img_path)\n",
    "\n",
    "root_dir = \"dataset/train\"\n",
    "ants_label_dir = \"ants\"\n",
    "ants_dataset = MyData(root_dir, ants_label_dir)"
   ]
  },
  {
   "cell_type": "code",
   "execution_count": 18,
   "id": "b8102612",
   "metadata": {},
   "outputs": [],
   "source": [
    "img, label = ants_dataset[1]"
   ]
  },
  {
   "cell_type": "code",
   "execution_count": 19,
   "id": "2f4f9c3a",
   "metadata": {},
   "outputs": [],
   "source": [
    "img.show()"
   ]
  },
  {
   "cell_type": "code",
   "execution_count": 20,
   "id": "86044fbb",
   "metadata": {},
   "outputs": [
    {
     "ename": "ModuleNotFoundError",
     "evalue": "No module named 'torchvision'",
     "output_type": "error",
     "traceback": [
      "\u001b[1;31m---------------------------------------------------------------------------\u001b[0m",
      "\u001b[1;31mModuleNotFoundError\u001b[0m                       Traceback (most recent call last)",
      "Cell \u001b[1;32mIn[20], line 1\u001b[0m\n\u001b[1;32m----> 1\u001b[0m \u001b[38;5;28;01mfrom\u001b[39;00m \u001b[38;5;21;01mtorchvision\u001b[39;00m \u001b[38;5;28;01mimport\u001b[39;00m transforms\n",
      "\u001b[1;31mModuleNotFoundError\u001b[0m: No module named 'torchvision'"
     ]
    }
   ],
   "source": [
    "from torchvision import transforms"
   ]
  },
  {
   "cell_type": "code",
   "execution_count": 23,
   "id": "c27402c1",
   "metadata": {},
   "outputs": [
    {
     "data": {
      "text/plain": [
       "'D:\\\\anaconda\\\\anaconda3\\\\lib\\\\site-packages\\\\torch\\\\__init__.py'"
      ]
     },
     "execution_count": 23,
     "metadata": {},
     "output_type": "execute_result"
    }
   ],
   "source": [
    "import torch\n",
    "torch.__file__"
   ]
  },
  {
   "cell_type": "code",
   "execution_count": 22,
   "id": "e145b428",
   "metadata": {},
   "outputs": [
    {
     "ename": "ModuleNotFoundError",
     "evalue": "No module named 'torchvision'",
     "output_type": "error",
     "traceback": [
      "\u001b[1;31m---------------------------------------------------------------------------\u001b[0m",
      "\u001b[1;31mModuleNotFoundError\u001b[0m                       Traceback (most recent call last)",
      "Cell \u001b[1;32mIn[22], line 1\u001b[0m\n\u001b[1;32m----> 1\u001b[0m \u001b[38;5;28;01mimport\u001b[39;00m \u001b[38;5;21;01mtorchvision\u001b[39;00m\n",
      "\u001b[1;31mModuleNotFoundError\u001b[0m: No module named 'torchvision'"
     ]
    }
   ],
   "source": [
    "import torchvision"
   ]
  },
  {
   "cell_type": "code",
   "execution_count": null,
   "id": "a4f3af6c",
   "metadata": {},
   "outputs": [],
   "source": []
  }
 ],
 "metadata": {
  "kernelspec": {
   "display_name": "Python 3 (ipykernel)",
   "language": "python",
   "name": "python3"
  },
  "language_info": {
   "codemirror_mode": {
    "name": "ipython",
    "version": 3
   },
   "file_extension": ".py",
   "mimetype": "text/x-python",
   "name": "python",
   "nbconvert_exporter": "python",
   "pygments_lexer": "ipython3",
   "version": "3.10.9"
  }
 },
 "nbformat": 4,
 "nbformat_minor": 5
}
